{
 "cells": [
  {
   "cell_type": "markdown",
   "metadata": {},
   "source": [
    "# Get stock info, and contextual data\n"
   ]
  },
  {
   "cell_type": "markdown",
   "metadata": {},
   "source": [
    "# Stock price\n"
   ]
  },
  {
   "cell_type": "code",
   "execution_count": 35,
   "metadata": {},
   "outputs": [],
   "source": [
    "import os\n",
    "\n",
    "ALPHA_VANTAGE_API_KEY = '9Y8UAVVQE8SQBL9G'#'FQYK4GSN6TQ5GFD0'\n",
    "FRED_API_KEY = 'cbc0578902583ecd62a5d775ebe871f7'\n",
    "\n",
    "START_DATE =\"1900-01-01\"\n",
    "END_DATE = \"2024-01-01\"\n",
    "\n",
    "STOCKS_FOLDER = \"stocks\"\n",
    "MACROECOMOMIC_US_FOLDER = \"macroeconomic_us\"\n",
    "MACROECOMOMIC_GLOBAL_FOLDER = \"macroeconomic_global\"\n",
    "COMMODITY_FOLDER = \"commodity\"\n",
    "\n",
    "if os.path.exists(STOCKS_FOLDER) == False:\n",
    "    os.mkdir(STOCKS_FOLDER)\n",
    "\n",
    "if os.path.exists(MACROECOMOMIC_US_FOLDER) == False:\n",
    "    os.mkdir(MACROECOMOMIC_US_FOLDER)\n",
    "\n",
    "if os.path.exists(MACROECOMOMIC_GLOBAL_FOLDER) == False:\n",
    "    os.mkdir(MACROECOMOMIC_GLOBAL_FOLDER)\n",
    "\n",
    "if os.path.exists(COMMODITY_FOLDER) == False:\n",
    "    os.mkdir(COMMODITY_FOLDER)"
   ]
  },
  {
   "cell_type": "code",
   "execution_count": 3,
   "metadata": {},
   "outputs": [],
   "source": [
    "import yfinance as yf\n",
    "\n",
    "stocks = [\"AAPL\", \"GOOG\", \"MSFT\", \"XOM\", \"^GSPC\", \"^IXIC\", \"^DJI\", \"^RUT\"]\n",
    "\n",
    "for stock in stocks:\n",
    "    stock_data = yf.Ticker(stock)\n",
    "    stock_history = stock_data.history(start=START_DATE, end=END_DATE, auto_adjust=1)\n",
    "    stock_history.to_csv(f\"{STOCKS_FOLDER}/{stock}.csv\")"
   ]
  },
  {
   "cell_type": "markdown",
   "metadata": {},
   "source": [
    "# US Economic Indicators\n",
    "\n",
    "- <B>Inflation (CPI, PPI):</B> Stock valuations often adjust for inflation.\n",
    "- <B>Interest Rates (Federal Funds Rate, Treasury Yields):</B> Drives discount rates for valuations.\n",
    "- <B>Unemployment Rate:</B> Indicates economic health and consumer spending capacity.\n",
    "- <B>Consumer Sentiment:</B> Affects demand and spending.\n",
    "- <B>GDP Growth:</B> Helps to align stock movements with economic expansion/contraction.\n",
    "\n",
    "Additionally:\n",
    "\n",
    "- <B>Industrial Production:</B> Important for sectors like manufacturing and materials.\n",
    "- <B>Oil Prices:</B> Impacts energy stocks and broader inflation trends.\n",
    "- <B>Housing Starts:</B> Relevant for real estate and construction sectors."
   ]
  },
  {
   "cell_type": "code",
   "execution_count": null,
   "metadata": {},
   "outputs": [],
   "source": [
    "# Get US MACROECONOMIC DATA using Alpha Vantage API\n",
    "\n",
    "import requests\n",
    "import pandas as pd\n",
    "import io\n",
    "\n",
    "# List of macroeconomic indicators to fetch from Alpha Vantage\n",
    "# REAL GDP - GROSS DOMESTIC PRODUCT (GDP) - REAL\n",
    "# REAL GDP PER CAPITA - GROSS DOMESTIC PRODUCT (GDP) PER CAPITA - REAL\n",
    "# TREASURY YIELDS - 10 YEAR TREASURY RATE\n",
    "# TREASURY YIELDS - 2 YEAR TREASURY RATE\n",
    "# TREASURY YIELDS - 30 YEAR TREASURY RATE\n",
    "# FEDERAL FUNDS RATE - explaination: the interest rate at which depository institutions lend reserve balances to other depository institutions overnight on an uncollateralized basis\n",
    "# CPI - CONSUMER PRICE INDEX\n",
    "# INFLATION - CONSUMER PRICE INDEX (CPI) - explaination: the rate at which the general level of prices for goods and services is rising, and subsequently, purchasing power is falling\n",
    "# RETAIL SALES - RETAIL SALES - explaination: the total receipts at stores that sell durable and nondurable goods\n",
    "# UNEMPLOYMENT RATE - UNEMPLOYMENT RATE - explaination: the percentage of the total labor force that is unemployed but actively seeking employment and willing to work\n",
    "# NONFARM PAYROLLS - NONFARM PAYROLLS - explaination: the total number of paid U.S. workers of any business, excluding general government employees, private household employees, employees of nonprofit organizations that provide assistance to individuals, and farm employees   \n",
    "\n",
    "#GET DATA FROM ALPHA VANTAGE API\n",
    "\n"
   ]
  },
  {
   "cell_type": "code",
   "execution_count": null,
   "metadata": {},
   "outputs": [],
   "source": [
    "import requests\n",
    "import pandas as pd\n",
    "import io\n",
    "\n",
    "#GDP per quarter\n",
    "with requests.get(f\"https://www.alphavantage.co/query?function=REAL_GDP&datatype=csv&apikey={ALPHA_VANTAGE_API_KEY}\") as response:\n",
    "    df = pd.read_csv(io.BytesIO(response.content))\n",
    "    df.rename(columns={\"value\": \"REAL_GDP\"}, inplace=True)\n",
    "    df.to_csv(f\"{MACROECOMOMIC_US_FOLDER}/GDP.csv\", index=False)\n"
   ]
  },
  {
   "cell_type": "code",
   "execution_count": null,
   "metadata": {},
   "outputs": [],
   "source": [
    "#GDP per Capita per quarter\n",
    "with requests.get(f\"https://www.alphavantage.co/query?function=REAL_GDP_PER_CAPITA&datatype=csv&apikey={ALPHA_VANTAGE_API_KEY}\") as response:\n",
    "    #create df\n",
    "    df = pd.read_csv(io.BytesIO(response.content))\n",
    "    #reaname value to REAL_GDP_PER_CAPITA\n",
    "    df.rename(columns={\"value\": \"REAL_GDP_PER_CAPITA\"}, inplace=True)\n",
    "    #save to csv\n",
    "    df.to_csv(f\"{MACROECOMOMIC_US_FOLDER}/GDP_PER_CAPITA.csv\", index=False)\n"
   ]
  },
  {
   "cell_type": "code",
   "execution_count": null,
   "metadata": {},
   "outputs": [],
   "source": [
    "# 10 year treasury rate per day\n",
    "with requests.get(f\"https://www.alphavantage.co/query?function=TREASURY_YIELD&interval=daily&maturity=10year&datatype=csv&apikey={ALPHA_VANTAGE_API_KEY}\") as response:\n",
    "    #create df\n",
    "    df = pd.read_csv(io.BytesIO(response.content))\n",
    "    #reaname value to 10_YEAR_TREASURY_RATE\n",
    "    df.rename(columns={\"value\": \"10_YEAR_TREASURY_RATE\"}, inplace=True)\n",
    "    #save to csv\n",
    "    df.to_csv(f\"{MACROECOMOMIC_US_FOLDER}/10_YEAR_TREASURY_RATE.csv\", index=False)"
   ]
  },
  {
   "cell_type": "code",
   "execution_count": null,
   "metadata": {},
   "outputs": [],
   "source": [
    "# 2 year treasury rate per day\n",
    "with requests.get(f\"https://www.alphavantage.co/query?function=TREASURY_YIELD&interval=daily&maturity=2year&datatype=csv&apikey={ALPHA_VANTAGE_API_KEY}\") as response:\n",
    "    #create df\n",
    "    df = pd.read_csv(io.BytesIO(response.content))\n",
    "    #reaname value to 2_YEAR_TREASURY_RATE\n",
    "    df.rename(columns={\"value\": \"2_YEAR_TREASURY_RATE\"}, inplace=True)\n",
    "    #save to csv\n",
    "    df.to_csv(f\"{MACROECOMOMIC_US_FOLDER}/2_YEAR_TREASURY_RATE.csv\", index=False)"
   ]
  },
  {
   "cell_type": "code",
   "execution_count": null,
   "metadata": {},
   "outputs": [],
   "source": [
    "# 30 year treasury rate per day\n",
    "with requests.get(f\"https://www.alphavantage.co/query?function=TREASURY_YIELD&interval=daily&maturity=30year&datatype=csv&apikey={ALPHA_VANTAGE_API_KEY}\") as response:\n",
    "    #create df\n",
    "    df = pd.read_csv(io.BytesIO(response.content))\n",
    "    #reaname value to 30_YEAR_TREASURY_RATE\n",
    "    df.rename(columns={\"value\": \"30_YEAR_TREASURY_RATE\"}, inplace=True)\n",
    "    #save to csv\n",
    "    df.to_csv(f\"{MACROECOMOMIC_US_FOLDER}/30_YEAR_TREASURY_RATE.csv\", index=False)"
   ]
  },
  {
   "cell_type": "code",
   "execution_count": null,
   "metadata": {},
   "outputs": [],
   "source": [
    "# Federal Funds Rate per day\n",
    "with requests.get(f\"https://www.alphavantage.co/query?function=FEDERAL_FUNDS_RATE&datatype=csv&apikey={ALPHA_VANTAGE_API_KEY}\") as response:\n",
    "    #create df\n",
    "    df = pd.read_csv(io.BytesIO(response.content))\n",
    "    #reaname value to FEDERAL_FUNDS_RATE\n",
    "    df.rename(columns={\"value\": \"FEDERAL_FUNDS_RATE\"}, inplace=True)\n",
    "    #save to csv\n",
    "    df.to_csv(f\"{MACROECOMOMIC_US_FOLDER}/FEDERAL_FUNDS_RATE.csv\", index=False)"
   ]
  },
  {
   "cell_type": "code",
   "execution_count": null,
   "metadata": {},
   "outputs": [],
   "source": [
    "# Consumer Price Index per month\n",
    "with requests.get(f\"https://www.alphavantage.co/query?function=CPI&datatype=csv&apikey={ALPHA_VANTAGE_API_KEY}\") as response:\n",
    "    #create df\n",
    "    df = pd.read_csv(io.BytesIO(response.content))\n",
    "    #reaname value to CPI\n",
    "    df.rename(columns={\"value\": \"CPI\"}, inplace=True)\n",
    "    #save to csv\n",
    "    df.to_csv(f\"{MACROECOMOMIC_US_FOLDER}/CPI.csv\", index=False)"
   ]
  },
  {
   "cell_type": "code",
   "execution_count": null,
   "metadata": {},
   "outputs": [],
   "source": [
    "# Inflation per month\n",
    "with requests.get(f\"https://www.alphavantage.co/query?function=INFLATION&datatype=csv&apikey={ALPHA_VANTAGE_API_KEY}\") as response:\n",
    "    #create df\n",
    "    df = pd.read_csv(io.BytesIO(response.content))\n",
    "    #reaname value to INFLATION\n",
    "    df.rename(columns={\"value\": \"INFLATION\"}, inplace=True)\n",
    "    #save to csv\n",
    "    df.to_csv(f\"{MACROECOMOMIC_US_FOLDER}/INFLATION.csv\", index=False)"
   ]
  },
  {
   "cell_type": "code",
   "execution_count": null,
   "metadata": {},
   "outputs": [],
   "source": [
    "# Retail Sales per month\n",
    "with requests.get(f\"https://www.alphavantage.co/query?function=RETAIL_SALES&datatype=csv&apikey={ALPHA_VANTAGE_API_KEY}\") as response:\n",
    "    #create df\n",
    "    df = pd.read_csv(io.BytesIO(response.content))\n",
    "    #reaname value to RETAIL_SALES\n",
    "    df.rename(columns={\"value\": \"RETAIL_SALES\"}, inplace=True)\n",
    "    #save to csv\n",
    "    df.to_csv(f\"{MACROECOMOMIC_US_FOLDER}/RETAIL_SALES.csv\", index=False)"
   ]
  },
  {
   "cell_type": "code",
   "execution_count": null,
   "metadata": {},
   "outputs": [],
   "source": [
    "# Unemployment\n",
    "with requests.get(f\"https://www.alphavantage.co/query?function=UNEMPLOYMENT&datatype=csv&apikey={ALPHA_VANTAGE_API_KEY}\") as response:\n",
    "    #create df\n",
    "    df = pd.read_csv(io.BytesIO(response.content))\n",
    "    #reaname value to UNEMPLOYMENT\n",
    "    df.rename(columns={\"value\": \"UNEMPLOYMENT\"}, inplace=True)\n",
    "    #save to csv\n",
    "    df.to_csv(f\"{MACROECOMOMIC_US_FOLDER}/UNEMPLOYMENT.csv\", index=False)"
   ]
  },
  {
   "cell_type": "code",
   "execution_count": null,
   "metadata": {},
   "outputs": [],
   "source": [
    "# Nonfarm Payrolls per month\n",
    "with requests.get(f\"https://www.alphavantage.co/query?function=NONFARM_PAYROLL&datatype=csv&apikey={ALPHA_VANTAGE_API_KEY}\") as response:\n",
    "    #create df\n",
    "    df = pd.read_csv(io.BytesIO(response.content))\n",
    "    #reaname value to NONFARM_PAYROLL\n",
    "    df.rename(columns={\"value\": \"NONFARM_PAYROLL\"}, inplace=True)\n",
    "    #save to csv\n",
    "    df.to_csv(f\"{MACROECOMOMIC_US_FOLDER}/NONFARM_PAYROLL.csv\", index=False)"
   ]
  },
  {
   "cell_type": "markdown",
   "metadata": {},
   "source": [
    "# Sentiment from FRED"
   ]
  },
  {
   "cell_type": "code",
   "execution_count": null,
   "metadata": {},
   "outputs": [],
   "source": [
    "import zipfile, io\n",
    "\n",
    "BASE_URL = \"https://api.stlouisfed.org/fred/series/observations\"\n",
    "\n",
    "# UMCSENT (Consumer Sentiment Index)\n",
    "params = {\n",
    "    \"series_id\": \"UMCSENT\",  # Consumer Sentiment Index\n",
    "    \"api_key\": FRED_API_KEY,\n",
    "    \"file_type\": \"csv\",\n",
    "    \"observation_start\": START_DATE,\n",
    "    \"observation_end\": END_DATE,\n",
    "}\n",
    "\n",
    "\n",
    "with requests.get(BASE_URL, params=params) as response:\n",
    "    #unzip\n",
    "    with zipfile.ZipFile(io.BytesIO(response.content)) as zf:\n",
    "        zf.extractall(MACROECOMOMIC_US_FOLDER)"
   ]
  },
  {
   "cell_type": "markdown",
   "metadata": {},
   "source": [
    "# Commodity prices"
   ]
  },
  {
   "cell_type": "code",
   "execution_count": 3,
   "metadata": {},
   "outputs": [],
   "source": [
    "#Get commodity prices\n",
    "\n",
    "import requests\n",
    "import pandas as pd\n",
    "import io\n"
   ]
  },
  {
   "cell_type": "code",
   "execution_count": 23,
   "metadata": {},
   "outputs": [],
   "source": [
    "#WTI Crude Oil\n",
    "with requests.get(f\"https://www.alphavantage.co/query?function=WTI&datatype=csv&interval=daily&apikey={ALPHA_VANTAGE_API_KEY}\") as response:\n",
    "    #create df\n",
    "    df = pd.read_csv(io.BytesIO(response.content))\n",
    "    #save to csv\n",
    "    df.to_csv(f\"{COMMODITY_FOLDER}/WTI.csv\", index=False)"
   ]
  },
  {
   "cell_type": "code",
   "execution_count": 22,
   "metadata": {},
   "outputs": [],
   "source": [
    "#Brent Crude Oil\n",
    "with requests.get(f\"https://www.alphavantage.co/query?function=BRENT&datatype=csv&interval=daily&apikey={ALPHA_VANTAGE_API_KEY}\") as response:\n",
    "    #create df\n",
    "    df = pd.read_csv(io.BytesIO(response.content))\n",
    "    #save to csv\n",
    "    df.to_csv(f\"{COMMODITY_FOLDER}/BRENT.csv\", index=False)"
   ]
  },
  {
   "cell_type": "code",
   "execution_count": 21,
   "metadata": {},
   "outputs": [],
   "source": [
    "#Natural Gas\n",
    "with requests.get(f\"https://www.alphavantage.co/query?function=NATURAL_GAS&datatype=csv&interval=daily&apikey={ALPHA_VANTAGE_API_KEY}\") as response:\n",
    "    #create df\n",
    "    df = pd.read_csv(io.BytesIO(response.content))\n",
    "    #save to csv\n",
    "    df.to_csv(f\"{COMMODITY_FOLDER}/NATURAL_GAS.csv\", index=False)\n"
   ]
  },
  {
   "cell_type": "code",
   "execution_count": 20,
   "metadata": {},
   "outputs": [],
   "source": [
    "#Copper\n",
    "with requests.get(f\"https://www.alphavantage.co/query?function=COPPER&datatype=csv&apikey={ALPHA_VANTAGE_API_KEY}\") as response:\n",
    "    #create df\n",
    "    df = pd.read_csv(io.BytesIO(response.content))\n",
    "    #save to csv\n",
    "    df.to_csv(f\"{COMMODITY_FOLDER}/COPPER.csv\", index=False)\n"
   ]
  },
  {
   "cell_type": "code",
   "execution_count": 24,
   "metadata": {},
   "outputs": [],
   "source": [
    "#Aluminium\n",
    "with requests.get(f\"https://www.alphavantage.co/query?function=ALUMINIUM&datatype=csv&apikey={ALPHA_VANTAGE_API_KEY}\") as response:\n",
    "    #create df\n",
    "    df = pd.read_csv(io.BytesIO(response.content))\n",
    "    #save to csv\n",
    "    df.to_csv(f\"{COMMODITY_FOLDER}/ALUMINIUM.csv\", index=False)"
   ]
  },
  {
   "cell_type": "code",
   "execution_count": 18,
   "metadata": {},
   "outputs": [],
   "source": [
    "#Wheat\n",
    "with requests.get(f\"https://www.alphavantage.co/query?function=WHEAT&datatype=csv&apikey={ALPHA_VANTAGE_API_KEY}\") as response:\n",
    "    #create df\n",
    "    df = pd.read_csv(io.BytesIO(response.content))\n",
    "    #save to csv\n",
    "    df.to_csv(f\"{COMMODITY_FOLDER}/WHEAT.csv\", index=False)"
   ]
  },
  {
   "cell_type": "code",
   "execution_count": 17,
   "metadata": {},
   "outputs": [],
   "source": [
    "#Corn\n",
    "with requests.get(f\"https://www.alphavantage.co/query?function=CORN&datatype=csv&apikey={ALPHA_VANTAGE_API_KEY}\") as response:\n",
    "    #create df\n",
    "    df = pd.read_csv(io.BytesIO(response.content))\n",
    "    #save to csv\n",
    "    df.to_csv(f\"{COMMODITY_FOLDER}/CORN.csv\", index=False)"
   ]
  },
  {
   "cell_type": "code",
   "execution_count": 16,
   "metadata": {},
   "outputs": [],
   "source": [
    "#Coffe\n",
    "with requests.get(f\"https://www.alphavantage.co/query?function=COFFEE&datatype=csv&apikey={ALPHA_VANTAGE_API_KEY}\") as response:\n",
    "    #create df\n",
    "    df = pd.read_csv(io.BytesIO(response.content))\n",
    "    #save to csv\n",
    "    df.to_csv(f\"{COMMODITY_FOLDER}/COFFEE.csv\", index=False)"
   ]
  },
  {
   "cell_type": "code",
   "execution_count": 14,
   "metadata": {},
   "outputs": [],
   "source": [
    "#Global commodities index\n",
    "with requests.get(f\"https://www.alphavantage.co/query?function=COMMODITY_INDEX&datatype=csv&apikey={ALPHA_VANTAGE_API_KEY}\") as response:\n",
    "    #create df\n",
    "    df = pd.read_csv(io.BytesIO(response.content))\n",
    "    #save to csv\n",
    "    df.to_csv(f\"{COMMODITY_FOLDER}/COMMODITY_INDEX.csv\", index=False)"
   ]
  }
 ],
 "metadata": {
  "kernelspec": {
   "display_name": "Python 3",
   "language": "python",
   "name": "python3"
  },
  "language_info": {
   "codemirror_mode": {
    "name": "ipython",
    "version": 3
   },
   "file_extension": ".py",
   "mimetype": "text/x-python",
   "name": "python",
   "nbconvert_exporter": "python",
   "pygments_lexer": "ipython3",
   "version": "3.11.0"
  }
 },
 "nbformat": 4,
 "nbformat_minor": 4
}
